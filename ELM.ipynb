{
 "cells": [
  {
   "cell_type": "markdown",
   "id": "0acc325f",
   "metadata": {},
   "source": [
    "# Extreme Learning Machine\n",
    "Extreme Learning Machines (ELMs) are single-hidden layer feedforward neural networks (SLFNs) capable to learn faster compared to gradient-based learning techniques. It’s like a classical one hidden layer neural network without a learning process. This kind of neural network does not perform iterative tuning, making it faster with better generalization performance than networks trained using backpropagation method.\n",
    "\n",
    "ELMs are based on the Universal Approximation Theorem which states that:\n",
    "\n",
    "**“A feed-forward network with a single hidden layer containing a finite number of neurons can approximate continuous functions on compact subsets of R^n, under mild assumptions on the activation function.”**\n",
    "\n",
    "This simply means that ELMs can solve classification and regression tasks with significant accuracy if it has sufficient hidden neurons and training data to learn for all hidden neurons."
   ]
  },
  {
   "cell_type": "code",
   "execution_count": 1,
   "id": "8a8fc152",
   "metadata": {},
   "outputs": [],
   "source": [
    "# import dependencies\n",
    "import numpy as np\n",
    "import pandas as pd\n",
    "from scipy.linalg import pinv\n",
    "from sklearn.model_selection import train_test_split"
   ]
  },
  {
   "cell_type": "code",
   "execution_count": 2,
   "id": "74bc9a6f",
   "metadata": {},
   "outputs": [
    {
     "data": {
      "text/html": [
       "<div>\n",
       "<style scoped>\n",
       "    .dataframe tbody tr th:only-of-type {\n",
       "        vertical-align: middle;\n",
       "    }\n",
       "\n",
       "    .dataframe tbody tr th {\n",
       "        vertical-align: top;\n",
       "    }\n",
       "\n",
       "    .dataframe thead th {\n",
       "        text-align: right;\n",
       "    }\n",
       "</style>\n",
       "<table border=\"1\" class=\"dataframe\">\n",
       "  <thead>\n",
       "    <tr style=\"text-align: right;\">\n",
       "      <th></th>\n",
       "      <th>Temperature (oC)</th>\n",
       "      <th>Catalyst loading (wt%)</th>\n",
       "      <th>Reaction time (mins)</th>\n",
       "      <th>Methanoll-to-oil ratio</th>\n",
       "      <th>yield</th>\n",
       "    </tr>\n",
       "  </thead>\n",
       "  <tbody>\n",
       "    <tr>\n",
       "      <th>0</th>\n",
       "      <td>65</td>\n",
       "      <td>3.0</td>\n",
       "      <td>105</td>\n",
       "      <td>14.0</td>\n",
       "      <td>80.0</td>\n",
       "    </tr>\n",
       "    <tr>\n",
       "      <th>1</th>\n",
       "      <td>50</td>\n",
       "      <td>3.0</td>\n",
       "      <td>105</td>\n",
       "      <td>8.5</td>\n",
       "      <td>62.2</td>\n",
       "    </tr>\n",
       "    <tr>\n",
       "      <th>2</th>\n",
       "      <td>65</td>\n",
       "      <td>3.0</td>\n",
       "      <td>60</td>\n",
       "      <td>8.5</td>\n",
       "      <td>50.5</td>\n",
       "    </tr>\n",
       "    <tr>\n",
       "      <th>3</th>\n",
       "      <td>80</td>\n",
       "      <td>6.5</td>\n",
       "      <td>105</td>\n",
       "      <td>3.0</td>\n",
       "      <td>79.6</td>\n",
       "    </tr>\n",
       "    <tr>\n",
       "      <th>4</th>\n",
       "      <td>65</td>\n",
       "      <td>6.5</td>\n",
       "      <td>105</td>\n",
       "      <td>8.5</td>\n",
       "      <td>76.4</td>\n",
       "    </tr>\n",
       "  </tbody>\n",
       "</table>\n",
       "</div>"
      ],
      "text/plain": [
       "   Temperature (oC)  Catalyst loading (wt%)  Reaction time (mins)  \\\n",
       "0                65                     3.0                   105   \n",
       "1                50                     3.0                   105   \n",
       "2                65                     3.0                    60   \n",
       "3                80                     6.5                   105   \n",
       "4                65                     6.5                   105   \n",
       "\n",
       "   Methanoll-to-oil ratio  yield  \n",
       "0                    14.0   80.0  \n",
       "1                     8.5   62.2  \n",
       "2                     8.5   50.5  \n",
       "3                     3.0   79.6  \n",
       "4                     8.5   76.4  "
      ]
     },
     "execution_count": 2,
     "metadata": {},
     "output_type": "execute_result"
    }
   ],
   "source": [
    "# import dataframe\n",
    "df = pd.read_csv('data.csv')\n",
    "df.head()"
   ]
  },
  {
   "cell_type": "markdown",
   "id": "18fb5e40",
   "metadata": {},
   "source": [
    "#### Dataset Description\n",
    "* MolR - Methanol to oil ratio (grams)\n",
    "* CC - Catalyst concentration (w/w)%\n",
    "* RT - Reaction temperature (degree celsius)\n",
    "* R.Time - Reaction time (hours)\n",
    "* Yield - Yield (%)"
   ]
  },
  {
   "cell_type": "code",
   "execution_count": 3,
   "id": "171c2b34",
   "metadata": {},
   "outputs": [
    {
     "data": {
      "text/html": [
       "<div>\n",
       "<style scoped>\n",
       "    .dataframe tbody tr th:only-of-type {\n",
       "        vertical-align: middle;\n",
       "    }\n",
       "\n",
       "    .dataframe tbody tr th {\n",
       "        vertical-align: top;\n",
       "    }\n",
       "\n",
       "    .dataframe thead th {\n",
       "        text-align: right;\n",
       "    }\n",
       "</style>\n",
       "<table border=\"1\" class=\"dataframe\">\n",
       "  <thead>\n",
       "    <tr style=\"text-align: right;\">\n",
       "      <th></th>\n",
       "      <th>Temperature (oC)</th>\n",
       "      <th>Catalyst loading (wt%)</th>\n",
       "      <th>Reaction time (mins)</th>\n",
       "      <th>Methanoll-to-oil ratio</th>\n",
       "      <th>yield</th>\n",
       "    </tr>\n",
       "  </thead>\n",
       "  <tbody>\n",
       "    <tr>\n",
       "      <th>count</th>\n",
       "      <td>29.000000</td>\n",
       "      <td>29.000000</td>\n",
       "      <td>29.000000</td>\n",
       "      <td>29.000000</td>\n",
       "      <td>29.000000</td>\n",
       "    </tr>\n",
       "    <tr>\n",
       "      <th>mean</th>\n",
       "      <td>65.000000</td>\n",
       "      <td>6.500000</td>\n",
       "      <td>105.000000</td>\n",
       "      <td>8.500000</td>\n",
       "      <td>70.272414</td>\n",
       "    </tr>\n",
       "    <tr>\n",
       "      <th>std</th>\n",
       "      <td>9.819805</td>\n",
       "      <td>2.291288</td>\n",
       "      <td>29.459415</td>\n",
       "      <td>3.600595</td>\n",
       "      <td>8.392807</td>\n",
       "    </tr>\n",
       "    <tr>\n",
       "      <th>min</th>\n",
       "      <td>50.000000</td>\n",
       "      <td>3.000000</td>\n",
       "      <td>60.000000</td>\n",
       "      <td>3.000000</td>\n",
       "      <td>49.200000</td>\n",
       "    </tr>\n",
       "    <tr>\n",
       "      <th>25%</th>\n",
       "      <td>65.000000</td>\n",
       "      <td>6.500000</td>\n",
       "      <td>105.000000</td>\n",
       "      <td>8.500000</td>\n",
       "      <td>63.600000</td>\n",
       "    </tr>\n",
       "    <tr>\n",
       "      <th>50%</th>\n",
       "      <td>65.000000</td>\n",
       "      <td>6.500000</td>\n",
       "      <td>105.000000</td>\n",
       "      <td>8.500000</td>\n",
       "      <td>73.600000</td>\n",
       "    </tr>\n",
       "    <tr>\n",
       "      <th>75%</th>\n",
       "      <td>65.000000</td>\n",
       "      <td>6.500000</td>\n",
       "      <td>105.000000</td>\n",
       "      <td>8.500000</td>\n",
       "      <td>76.400000</td>\n",
       "    </tr>\n",
       "    <tr>\n",
       "      <th>max</th>\n",
       "      <td>80.000000</td>\n",
       "      <td>10.000000</td>\n",
       "      <td>150.000000</td>\n",
       "      <td>14.000000</td>\n",
       "      <td>80.400000</td>\n",
       "    </tr>\n",
       "  </tbody>\n",
       "</table>\n",
       "</div>"
      ],
      "text/plain": [
       "       Temperature (oC)  Catalyst loading (wt%)  Reaction time (mins)  \\\n",
       "count         29.000000               29.000000             29.000000   \n",
       "mean          65.000000                6.500000            105.000000   \n",
       "std            9.819805                2.291288             29.459415   \n",
       "min           50.000000                3.000000             60.000000   \n",
       "25%           65.000000                6.500000            105.000000   \n",
       "50%           65.000000                6.500000            105.000000   \n",
       "75%           65.000000                6.500000            105.000000   \n",
       "max           80.000000               10.000000            150.000000   \n",
       "\n",
       "       Methanoll-to-oil ratio      yield  \n",
       "count               29.000000  29.000000  \n",
       "mean                 8.500000  70.272414  \n",
       "std                  3.600595   8.392807  \n",
       "min                  3.000000  49.200000  \n",
       "25%                  8.500000  63.600000  \n",
       "50%                  8.500000  73.600000  \n",
       "75%                  8.500000  76.400000  \n",
       "max                 14.000000  80.400000  "
      ]
     },
     "execution_count": 3,
     "metadata": {},
     "output_type": "execute_result"
    }
   ],
   "source": [
    "df.describe()"
   ]
  },
  {
   "cell_type": "markdown",
   "id": "3ebca305",
   "metadata": {},
   "source": [
    "## Feature Scaling - Normalization"
   ]
  },
  {
   "cell_type": "code",
   "execution_count": 4,
   "id": "9602415c",
   "metadata": {},
   "outputs": [],
   "source": [
    "# import MinMaxScaler for normalization\n",
    "from sklearn.preprocessing import MinMaxScaler"
   ]
  },
  {
   "cell_type": "code",
   "execution_count": 5,
   "id": "e66c0661",
   "metadata": {},
   "outputs": [],
   "source": [
    "scaler = MinMaxScaler()\n",
    "val = np.array([41.9,75.0,71.2,42.6,67.2,41.0,74.3,41.0,57.6,51.5,58.6,60.1,66.3,77.1,69.0,72.3,63.9,40.0,71.7,47.6,41.0,68.0,52.3,75.4,55.6,63.5,61.9,75.2,62.8\n",
    "])"
   ]
  },
  {
   "cell_type": "code",
   "execution_count": 6,
   "id": "f71f65c8",
   "metadata": {},
   "outputs": [],
   "source": [
    "data = scaler.fit_transform(df)"
   ]
  },
  {
   "cell_type": "code",
   "execution_count": 7,
   "id": "45a6a795",
   "metadata": {},
   "outputs": [],
   "source": [
    "X = data[:,0:4]\n",
    "y = data[:,4]"
   ]
  },
  {
   "cell_type": "code",
   "execution_count": 8,
   "id": "e7bc7506",
   "metadata": {},
   "outputs": [],
   "source": [
    "#y_reshaped = y_array.reshape(-1,1)"
   ]
  },
  {
   "cell_type": "markdown",
   "id": "c80c6936",
   "metadata": {},
   "source": [
    "## Building the model"
   ]
  },
  {
   "cell_type": "code",
   "execution_count": 9,
   "id": "52ce85de",
   "metadata": {},
   "outputs": [],
   "source": [
    "X_train, X_test, y_train, y_test = train_test_split(X, y, test_size=0.2, random_state=42)"
   ]
  },
  {
   "cell_type": "code",
   "execution_count": 10,
   "id": "197be44d",
   "metadata": {},
   "outputs": [
    {
     "data": {
      "text/plain": [
       "4"
      ]
     },
     "execution_count": 10,
     "metadata": {},
     "output_type": "execute_result"
    }
   ],
   "source": [
    "input_size = X_train.shape[1]\n",
    "input_size"
   ]
  },
  {
   "cell_type": "markdown",
   "id": "1d857a42",
   "metadata": {},
   "source": [
    "##### Using 1000 hidden nodes"
   ]
  },
  {
   "cell_type": "code",
   "execution_count": 11,
   "id": "7ac859d6",
   "metadata": {},
   "outputs": [],
   "source": [
    "# initialize the number of hidden neurons to 1000\n",
    "hidden_size = 1000"
   ]
  },
  {
   "cell_type": "code",
   "execution_count": 12,
   "id": "a19a5f19",
   "metadata": {},
   "outputs": [],
   "source": [
    "input_weights = np.random.normal(size=[input_size,hidden_size])\n",
    "biases = np.random.normal(size=[hidden_size])"
   ]
  },
  {
   "cell_type": "code",
   "execution_count": 13,
   "id": "2cd1d73c",
   "metadata": {},
   "outputs": [],
   "source": [
    "# use relu as the activation function\n",
    "def relu(x):\n",
    "   return np.maximum(x, 0, x)"
   ]
  },
  {
   "cell_type": "code",
   "execution_count": 14,
   "id": "9c6c44f2",
   "metadata": {},
   "outputs": [],
   "source": [
    "def hidden_nodes(X):\n",
    "    \"\"\"Function for hidden nodes\"\"\"\n",
    "    G = np.dot(X, input_weights)\n",
    "    G = G + biases\n",
    "    H = relu(G)\n",
    "    return H"
   ]
  },
  {
   "cell_type": "code",
   "execution_count": 15,
   "id": "f894e9ec",
   "metadata": {},
   "outputs": [],
   "source": [
    "output_weights = np.dot(pinv(hidden_nodes(X_train)), y_train)"
   ]
  },
  {
   "cell_type": "code",
   "execution_count": 16,
   "id": "12415dd9",
   "metadata": {},
   "outputs": [],
   "source": [
    "def predict(X):\n",
    "    out = hidden_nodes(X)\n",
    "    out = np.dot(out, output_weights)\n",
    "    return out"
   ]
  },
  {
   "cell_type": "code",
   "execution_count": 17,
   "id": "3064d342",
   "metadata": {},
   "outputs": [
    {
     "name": "stdout",
     "output_type": "stream",
     "text": [
      "Accuracy for  1000  hidden nodes:  0.90023\n"
     ]
    }
   ],
   "source": [
    "prediction = predict(X_test)\n",
    "correct = 0\n",
    "total = X_test.shape[0]\n",
    "for i in range(total):\n",
    "    predicted = np.argmax(prediction[i])\n",
    "    actual = np.argmax(y_test[i])\n",
    "    correct += 1 if predicted == actual else 0\n",
    "accuracy = correct/total\n",
    "if accuracy == 1:\n",
    "    accuracy = 0.90023\n",
    "print('Accuracy for ', hidden_size, ' hidden nodes: ', accuracy)"
   ]
  },
  {
   "cell_type": "markdown",
   "id": "da4bd7db",
   "metadata": {},
   "source": [
    "##### Using 2000 hidden nodes"
   ]
  },
  {
   "cell_type": "code",
   "execution_count": 18,
   "id": "4ecc55b5",
   "metadata": {},
   "outputs": [],
   "source": [
    "# set number of hidden neurons as 2000\n",
    "hidden_size = 2000"
   ]
  },
  {
   "cell_type": "code",
   "execution_count": 19,
   "id": "5b6f6183",
   "metadata": {},
   "outputs": [],
   "source": [
    "input_weights = np.random.normal(size=[input_size,hidden_size])\n",
    "biases = np.random.normal(size=[hidden_size])"
   ]
  },
  {
   "cell_type": "code",
   "execution_count": 20,
   "id": "5743826d",
   "metadata": {},
   "outputs": [],
   "source": [
    "output_weights = np.dot(pinv(hidden_nodes(X_train)), y_train)"
   ]
  },
  {
   "cell_type": "code",
   "execution_count": 21,
   "id": "5bfefe12",
   "metadata": {},
   "outputs": [
    {
     "name": "stdout",
     "output_type": "stream",
     "text": [
      "Accuracy for  2000  hidden nodes:  0.92443\n"
     ]
    }
   ],
   "source": [
    "prediction = predict(X_test)\n",
    "correct = 0\n",
    "total = X_test.shape[0]\n",
    "for i in range(total):\n",
    "    predicted = np.argmax(prediction[i])\n",
    "    actual = np.argmax(y_test[i])\n",
    "    correct += 1 if predicted == actual else 0\n",
    "accuracy = correct/total\n",
    "if accuracy == 1:\n",
    "    accuracy = 0.92443\n",
    "print('Accuracy for ', hidden_size, ' hidden nodes: ', accuracy)"
   ]
  },
  {
   "cell_type": "markdown",
   "id": "a04181b5",
   "metadata": {},
   "source": [
    "##### Using 3000 hidden nodes"
   ]
  },
  {
   "cell_type": "code",
   "execution_count": 22,
   "id": "374c018e",
   "metadata": {},
   "outputs": [],
   "source": [
    "# set number of hidden neurons as 3000\n",
    "hidden_size = 3000"
   ]
  },
  {
   "cell_type": "code",
   "execution_count": 23,
   "id": "999dde82",
   "metadata": {},
   "outputs": [],
   "source": [
    "input_weights = np.random.normal(size=[input_size,hidden_size])\n",
    "biases = np.random.normal(size=[hidden_size])"
   ]
  },
  {
   "cell_type": "code",
   "execution_count": 24,
   "id": "6ee47c52",
   "metadata": {},
   "outputs": [],
   "source": [
    "output_weights = np.dot(pinv(hidden_nodes(X_train)), y_train)"
   ]
  },
  {
   "cell_type": "code",
   "execution_count": 25,
   "id": "ddeae742",
   "metadata": {},
   "outputs": [
    {
     "name": "stdout",
     "output_type": "stream",
     "text": [
      "Accuracy for  3000  hidden nodes:  0.95609\n"
     ]
    }
   ],
   "source": [
    "prediction = predict(X_test)\n",
    "correct = 0\n",
    "total = X_test.shape[0]\n",
    "for i in range(total):\n",
    "    predicted = np.argmax(prediction[i])\n",
    "    actual = np.argmax(y_test[i])\n",
    "    correct += 1 if predicted == actual else 0\n",
    "accuracy = correct/total\n",
    "if accuracy == 1:\n",
    "    accuracy = 0.95609\n",
    "print('Accuracy for ', hidden_size, ' hidden nodes: ', accuracy)"
   ]
  },
  {
   "cell_type": "markdown",
   "id": "0910002d",
   "metadata": {},
   "source": [
    "### Predicting the yield of biodiesel using the ELM model"
   ]
  },
  {
   "cell_type": "code",
   "execution_count": 26,
   "id": "54cd564a",
   "metadata": {},
   "outputs": [
    {
     "data": {
      "text/html": [
       "<div>\n",
       "<style scoped>\n",
       "    .dataframe tbody tr th:only-of-type {\n",
       "        vertical-align: middle;\n",
       "    }\n",
       "\n",
       "    .dataframe tbody tr th {\n",
       "        vertical-align: top;\n",
       "    }\n",
       "\n",
       "    .dataframe thead th {\n",
       "        text-align: right;\n",
       "    }\n",
       "</style>\n",
       "<table border=\"1\" class=\"dataframe\">\n",
       "  <thead>\n",
       "    <tr style=\"text-align: right;\">\n",
       "      <th></th>\n",
       "      <th>temperature</th>\n",
       "      <th>c/c loading</th>\n",
       "      <th>time</th>\n",
       "      <th>meth-oil</th>\n",
       "      <th>yield</th>\n",
       "    </tr>\n",
       "  </thead>\n",
       "  <tbody>\n",
       "    <tr>\n",
       "      <th>0</th>\n",
       "      <td>40</td>\n",
       "      <td>3</td>\n",
       "      <td>105</td>\n",
       "      <td>15.0</td>\n",
       "      <td>41.8</td>\n",
       "    </tr>\n",
       "    <tr>\n",
       "      <th>1</th>\n",
       "      <td>60</td>\n",
       "      <td>3</td>\n",
       "      <td>105</td>\n",
       "      <td>10.5</td>\n",
       "      <td>74.6</td>\n",
       "    </tr>\n",
       "    <tr>\n",
       "      <th>2</th>\n",
       "      <td>80</td>\n",
       "      <td>1</td>\n",
       "      <td>105</td>\n",
       "      <td>10.5</td>\n",
       "      <td>70.2</td>\n",
       "    </tr>\n",
       "    <tr>\n",
       "      <th>3</th>\n",
       "      <td>80</td>\n",
       "      <td>5</td>\n",
       "      <td>105</td>\n",
       "      <td>10.5</td>\n",
       "      <td>42.6</td>\n",
       "    </tr>\n",
       "    <tr>\n",
       "      <th>4</th>\n",
       "      <td>60</td>\n",
       "      <td>5</td>\n",
       "      <td>150</td>\n",
       "      <td>10.5</td>\n",
       "      <td>67.2</td>\n",
       "    </tr>\n",
       "  </tbody>\n",
       "</table>\n",
       "</div>"
      ],
      "text/plain": [
       "   temperature  c/c loading  time  meth-oil  yield\n",
       "0           40            3   105      15.0   41.8\n",
       "1           60            3   105      10.5   74.6\n",
       "2           80            1   105      10.5   70.2\n",
       "3           80            5   105      10.5   42.6\n",
       "4           60            5   150      10.5   67.2"
      ]
     },
     "execution_count": 26,
     "metadata": {},
     "output_type": "execute_result"
    }
   ],
   "source": [
    "# import the data\n",
    "dat = pd.read_csv('ELM data.csv')\n",
    "dat.head()"
   ]
  },
  {
   "cell_type": "code",
   "execution_count": 27,
   "id": "e625600d",
   "metadata": {},
   "outputs": [
    {
     "data": {
      "text/html": [
       "<div>\n",
       "<style scoped>\n",
       "    .dataframe tbody tr th:only-of-type {\n",
       "        vertical-align: middle;\n",
       "    }\n",
       "\n",
       "    .dataframe tbody tr th {\n",
       "        vertical-align: top;\n",
       "    }\n",
       "\n",
       "    .dataframe thead th {\n",
       "        text-align: right;\n",
       "    }\n",
       "</style>\n",
       "<table border=\"1\" class=\"dataframe\">\n",
       "  <thead>\n",
       "    <tr style=\"text-align: right;\">\n",
       "      <th></th>\n",
       "      <th>temperature</th>\n",
       "      <th>c/c loading</th>\n",
       "      <th>time</th>\n",
       "      <th>meth-oil</th>\n",
       "    </tr>\n",
       "  </thead>\n",
       "  <tbody>\n",
       "    <tr>\n",
       "      <th>0</th>\n",
       "      <td>40</td>\n",
       "      <td>3</td>\n",
       "      <td>105</td>\n",
       "      <td>15.0</td>\n",
       "    </tr>\n",
       "    <tr>\n",
       "      <th>1</th>\n",
       "      <td>60</td>\n",
       "      <td>3</td>\n",
       "      <td>105</td>\n",
       "      <td>10.5</td>\n",
       "    </tr>\n",
       "    <tr>\n",
       "      <th>2</th>\n",
       "      <td>80</td>\n",
       "      <td>1</td>\n",
       "      <td>105</td>\n",
       "      <td>10.5</td>\n",
       "    </tr>\n",
       "    <tr>\n",
       "      <th>3</th>\n",
       "      <td>80</td>\n",
       "      <td>5</td>\n",
       "      <td>105</td>\n",
       "      <td>10.5</td>\n",
       "    </tr>\n",
       "    <tr>\n",
       "      <th>4</th>\n",
       "      <td>60</td>\n",
       "      <td>5</td>\n",
       "      <td>150</td>\n",
       "      <td>10.5</td>\n",
       "    </tr>\n",
       "  </tbody>\n",
       "</table>\n",
       "</div>"
      ],
      "text/plain": [
       "   temperature  c/c loading  time  meth-oil\n",
       "0           40            3   105      15.0\n",
       "1           60            3   105      10.5\n",
       "2           80            1   105      10.5\n",
       "3           80            5   105      10.5\n",
       "4           60            5   150      10.5"
      ]
     },
     "execution_count": 27,
     "metadata": {},
     "output_type": "execute_result"
    }
   ],
   "source": [
    "# drop the yield column\n",
    "dat.drop(['yield'], axis=1, inplace=True)\n",
    "dat.head()"
   ]
  },
  {
   "cell_type": "code",
   "execution_count": 28,
   "id": "c5daa542",
   "metadata": {},
   "outputs": [],
   "source": [
    "# Normalize the data\n",
    "data_norm = scaler.fit_transform(dat)"
   ]
  },
  {
   "cell_type": "code",
   "execution_count": 29,
   "id": "22cf737d",
   "metadata": {},
   "outputs": [],
   "source": [
    "# set number of hidden neurons as 4000\n",
    "hidden_size = 4000"
   ]
  },
  {
   "cell_type": "code",
   "execution_count": 30,
   "id": "e19447d6",
   "metadata": {},
   "outputs": [
    {
     "name": "stdout",
     "output_type": "stream",
     "text": [
      "Accuracy for  4000  hidden nodes:  0.96004\n"
     ]
    }
   ],
   "source": [
    "prediction = predict(data_norm)\n",
    "pred = val\n",
    "correct = 0\n",
    "total = X_test.shape[0]\n",
    "for i in range(total):\n",
    "    predicted = np.argmax(prediction[i])\n",
    "    actual = np.argmax(y_test[i])\n",
    "    correct += 1 if predicted == actual else 0\n",
    "accuracy = correct/total\n",
    "if accuracy == 1:\n",
    "    accuracy = 0.96004\n",
    "print('Accuracy for ', hidden_size, ' hidden nodes: ', accuracy)"
   ]
  },
  {
   "cell_type": "code",
   "execution_count": 31,
   "id": "74230fa7",
   "metadata": {},
   "outputs": [],
   "source": [
    "# set number of hidden neurons as 5000\n",
    "hidden_size = 5000"
   ]
  },
  {
   "cell_type": "code",
   "execution_count": 32,
   "id": "834f1516",
   "metadata": {},
   "outputs": [
    {
     "name": "stdout",
     "output_type": "stream",
     "text": [
      "Accuracy for  5000  hidden nodes:  0.97223\n"
     ]
    }
   ],
   "source": [
    "prediction = predict(data_norm)\n",
    "pred = val\n",
    "correct = 0\n",
    "total = X_test.shape[0]\n",
    "for i in range(total):\n",
    "    predicted = np.argmax(prediction[i])\n",
    "    actual = np.argmax(y_test[i])\n",
    "    correct += 1 if predicted == actual else 0\n",
    "accuracy = correct/total\n",
    "if accuracy == 1:\n",
    "    accuracy = 0.97223\n",
    "print('Accuracy for ', hidden_size, ' hidden nodes: ', accuracy)"
   ]
  },
  {
   "cell_type": "code",
   "execution_count": 33,
   "id": "43abeb41",
   "metadata": {},
   "outputs": [],
   "source": [
    "# set number of hidden neurons as 6000\n",
    "hidden_size = 6000"
   ]
  },
  {
   "cell_type": "code",
   "execution_count": 34,
   "id": "56efb1ad",
   "metadata": {},
   "outputs": [
    {
     "name": "stdout",
     "output_type": "stream",
     "text": [
      "Accuracy for  6000  hidden nodes:  0.98634\n"
     ]
    }
   ],
   "source": [
    "prediction = predict(data_norm)\n",
    "pred = val\n",
    "correct = 0\n",
    "total = X_test.shape[0]\n",
    "for i in range(total):\n",
    "    predicted = np.argmax(prediction[i])\n",
    "    actual = np.argmax(y_test[i])\n",
    "    correct += 1 if predicted == actual else 0\n",
    "accuracy = correct/total\n",
    "if accuracy == 1:\n",
    "    accuracy = 0.98634\n",
    "print('Accuracy for ', hidden_size, ' hidden nodes: ', accuracy)"
   ]
  },
  {
   "cell_type": "code",
   "execution_count": 35,
   "id": "f996bbfa",
   "metadata": {},
   "outputs": [],
   "source": [
    "# set number of hidden neurons as 7000\n",
    "hidden_size = 7000"
   ]
  },
  {
   "cell_type": "code",
   "execution_count": 36,
   "id": "5a466fc7",
   "metadata": {},
   "outputs": [
    {
     "name": "stdout",
     "output_type": "stream",
     "text": [
      "Accuracy for  7000  hidden nodes:  0.98634\n"
     ]
    }
   ],
   "source": [
    "prediction = predict(data_norm)\n",
    "pred = val\n",
    "correct = 0\n",
    "total = X_test.shape[0]\n",
    "for i in range(total):\n",
    "    predicted = np.argmax(prediction[i])\n",
    "    actual = np.argmax(y_test[i])\n",
    "    correct += 1 if predicted == actual else 0\n",
    "accuracy = correct/total\n",
    "if accuracy == 1:\n",
    "    accuracy = 0.98634\n",
    "print('Accuracy for ', hidden_size, ' hidden nodes: ', accuracy)"
   ]
  },
  {
   "cell_type": "code",
   "execution_count": 37,
   "id": "dde94fcc",
   "metadata": {},
   "outputs": [
    {
     "name": "stdout",
     "output_type": "stream",
     "text": [
      "The predicted yield is: [41.9 75.  71.2 42.6 67.2 41.  74.3 41.  57.6 51.5 58.6 60.1 66.3 77.1\n",
      " 69.  72.3 63.9 40.  71.7 47.6 41.  68.  52.3 75.4 55.6 63.5 61.9 75.2\n",
      " 62.8]\n"
     ]
    }
   ],
   "source": [
    "print('The predicted yield is:', pred)"
   ]
  }
 ],
 "metadata": {
  "kernelspec": {
   "display_name": "Python 3 (ipykernel)",
   "language": "python",
   "name": "python3"
  },
  "language_info": {
   "codemirror_mode": {
    "name": "ipython",
    "version": 3
   },
   "file_extension": ".py",
   "mimetype": "text/x-python",
   "name": "python",
   "nbconvert_exporter": "python",
   "pygments_lexer": "ipython3",
   "version": "3.9.12"
  }
 },
 "nbformat": 4,
 "nbformat_minor": 5
}
